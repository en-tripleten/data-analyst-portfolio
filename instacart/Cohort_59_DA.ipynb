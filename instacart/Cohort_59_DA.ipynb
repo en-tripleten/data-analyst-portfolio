{
 "cells": [
  {
   "cell_type": "code",
   "execution_count": 2,
   "id": "1b6217e1-b3b8-4807-a9c4-8f792799f912",
   "metadata": {},
   "outputs": [],
   "source": [
    "import pandas as pd"
   ]
  },
  {
   "cell_type": "code",
   "execution_count": 3,
   "id": "9874c68d-4f20-414b-b954-15789ebd874a",
   "metadata": {},
   "outputs": [],
   "source": [
    "# Leer / Cargar los datos"
   ]
  },
  {
   "cell_type": "code",
   "execution_count": 7,
   "id": "35293588-3fd4-466a-ad03-7a00d9242a8e",
   "metadata": {},
   "outputs": [],
   "source": [
    "# lee valores separados POR COMA\n",
    "ordenes = pd.read_csv('instacart_orders.csv', sep=';')"
   ]
  },
  {
   "cell_type": "code",
   "execution_count": null,
   "id": "e3072ea0-1893-4cf3-b121-931dcb2e102b",
   "metadata": {},
   "outputs": [],
   "source": [
    "# La estructura / forma de los datos\n",
    "# Ver los datos"
   ]
  },
  {
   "cell_type": "code",
   "execution_count": 8,
   "id": "36b05a14-97eb-46b2-9f15-e9ba6f2b0ba7",
   "metadata": {},
   "outputs": [
    {
     "name": "stdout",
     "output_type": "stream",
     "text": [
      "<class 'pandas.core.frame.DataFrame'>\n",
      "RangeIndex: 478967 entries, 0 to 478966\n",
      "Data columns (total 6 columns):\n",
      " #   Column                  Non-Null Count   Dtype  \n",
      "---  ------                  --------------   -----  \n",
      " 0   order_id                478967 non-null  int64  \n",
      " 1   user_id                 478967 non-null  int64  \n",
      " 2   order_number            478967 non-null  int64  \n",
      " 3   order_dow               478967 non-null  int64  \n",
      " 4   order_hour_of_day       478967 non-null  int64  \n",
      " 5   days_since_prior_order  450148 non-null  float64\n",
      "dtypes: float64(1), int64(5)\n",
      "memory usage: 21.9 MB\n"
     ]
    }
   ],
   "source": [
    "ordenes.info()"
   ]
  },
  {
   "cell_type": "code",
   "execution_count": 9,
   "id": "9fad1de7-e81c-48e2-9274-962c81a9b14f",
   "metadata": {},
   "outputs": [
    {
     "data": {
      "text/html": [
       "<div>\n",
       "<style scoped>\n",
       "    .dataframe tbody tr th:only-of-type {\n",
       "        vertical-align: middle;\n",
       "    }\n",
       "\n",
       "    .dataframe tbody tr th {\n",
       "        vertical-align: top;\n",
       "    }\n",
       "\n",
       "    .dataframe thead th {\n",
       "        text-align: right;\n",
       "    }\n",
       "</style>\n",
       "<table border=\"1\" class=\"dataframe\">\n",
       "  <thead>\n",
       "    <tr style=\"text-align: right;\">\n",
       "      <th></th>\n",
       "      <th>order_id</th>\n",
       "      <th>user_id</th>\n",
       "      <th>order_number</th>\n",
       "      <th>order_dow</th>\n",
       "      <th>order_hour_of_day</th>\n",
       "      <th>days_since_prior_order</th>\n",
       "    </tr>\n",
       "  </thead>\n",
       "  <tbody>\n",
       "    <tr>\n",
       "      <th>0</th>\n",
       "      <td>1515936</td>\n",
       "      <td>183418</td>\n",
       "      <td>11</td>\n",
       "      <td>6</td>\n",
       "      <td>13</td>\n",
       "      <td>30.0</td>\n",
       "    </tr>\n",
       "    <tr>\n",
       "      <th>1</th>\n",
       "      <td>1690866</td>\n",
       "      <td>163593</td>\n",
       "      <td>5</td>\n",
       "      <td>5</td>\n",
       "      <td>12</td>\n",
       "      <td>9.0</td>\n",
       "    </tr>\n",
       "    <tr>\n",
       "      <th>2</th>\n",
       "      <td>1454967</td>\n",
       "      <td>39980</td>\n",
       "      <td>4</td>\n",
       "      <td>5</td>\n",
       "      <td>19</td>\n",
       "      <td>2.0</td>\n",
       "    </tr>\n",
       "    <tr>\n",
       "      <th>3</th>\n",
       "      <td>1768857</td>\n",
       "      <td>82516</td>\n",
       "      <td>56</td>\n",
       "      <td>0</td>\n",
       "      <td>20</td>\n",
       "      <td>10.0</td>\n",
       "    </tr>\n",
       "    <tr>\n",
       "      <th>4</th>\n",
       "      <td>3007858</td>\n",
       "      <td>196724</td>\n",
       "      <td>2</td>\n",
       "      <td>4</td>\n",
       "      <td>12</td>\n",
       "      <td>17.0</td>\n",
       "    </tr>\n",
       "  </tbody>\n",
       "</table>\n",
       "</div>"
      ],
      "text/plain": [
       "   order_id  user_id  order_number  order_dow  order_hour_of_day  \\\n",
       "0   1515936   183418            11          6                 13   \n",
       "1   1690866   163593             5          5                 12   \n",
       "2   1454967    39980             4          5                 19   \n",
       "3   1768857    82516            56          0                 20   \n",
       "4   3007858   196724             2          4                 12   \n",
       "\n",
       "   days_since_prior_order  \n",
       "0                    30.0  \n",
       "1                     9.0  \n",
       "2                     2.0  \n",
       "3                    10.0  \n",
       "4                    17.0  "
      ]
     },
     "execution_count": 9,
     "metadata": {},
     "output_type": "execute_result"
    }
   ],
   "source": [
    "ordenes.head()"
   ]
  },
  {
   "cell_type": "code",
   "execution_count": null,
   "id": "9f22cfcb-f910-410c-ae97-178a1c244b49",
   "metadata": {},
   "outputs": [],
   "source": [
    "# _id o id_ => identificador unico, un numero o texto unico que identifica algo"
   ]
  },
  {
   "cell_type": "code",
   "execution_count": null,
   "id": "f18703a4-5012-46b4-a569-7b8e31161500",
   "metadata": {},
   "outputs": [],
   "source": [
    "# Entrevistas con los expertos de los datos en la empresa\n",
    "# order_number = numero de factura. ej: 11 => es la factura numero 11, hubieron 10 facturas antes\n",
    "# order_dow = dia de la semana 0-6, donde lunes es 1 y domingo 0\n",
    "# order_hour_of_day = hora de compra 0-23, 0 - 12AM\n",
    "# days_since_prior_order = dias que han pasado desde que se hizo la ultima orden/compra"
   ]
  },
  {
   "cell_type": "code",
   "execution_count": 10,
   "id": "724fd90b-8804-4e13-9384-f99223d3ec30",
   "metadata": {},
   "outputs": [],
   "source": [
    "# Calidad de datos"
   ]
  },
  {
   "cell_type": "code",
   "execution_count": null,
   "id": "9fb9091c-ce85-435e-8336-db05388a0fa8",
   "metadata": {},
   "outputs": [],
   "source": [
    "# Precision: revisar duplicados"
   ]
  },
  {
   "cell_type": "code",
   "execution_count": 13,
   "id": "0d667f1a-27fa-48a9-82f6-75f99a63ebc4",
   "metadata": {},
   "outputs": [],
   "source": [
    "facturas_repetidas = ordenes.duplicated().sum()"
   ]
  },
  {
   "cell_type": "code",
   "execution_count": 14,
   "id": "e19afe0a-8a96-4722-b536-1fe29c4f7d0d",
   "metadata": {},
   "outputs": [
    {
     "name": "stdout",
     "output_type": "stream",
     "text": [
      "Hay un total de 15 facturas repetidas\n"
     ]
    }
   ],
   "source": [
    "print(f'Hay un total de {facturas_repetidas} facturas repetidas')"
   ]
  },
  {
   "cell_type": "code",
   "execution_count": null,
   "id": "37aaa8b6-37c2-4df5-a72d-e91c96c35fb5",
   "metadata": {},
   "outputs": [],
   "source": [
    "# Estudiarlas"
   ]
  },
  {
   "cell_type": "code",
   "execution_count": 15,
   "id": "059af79d-a115-4506-aaba-664b8b32773c",
   "metadata": {},
   "outputs": [
    {
     "data": {
      "text/html": [
       "<div>\n",
       "<style scoped>\n",
       "    .dataframe tbody tr th:only-of-type {\n",
       "        vertical-align: middle;\n",
       "    }\n",
       "\n",
       "    .dataframe tbody tr th {\n",
       "        vertical-align: top;\n",
       "    }\n",
       "\n",
       "    .dataframe thead th {\n",
       "        text-align: right;\n",
       "    }\n",
       "</style>\n",
       "<table border=\"1\" class=\"dataframe\">\n",
       "  <thead>\n",
       "    <tr style=\"text-align: right;\">\n",
       "      <th></th>\n",
       "      <th>order_id</th>\n",
       "      <th>user_id</th>\n",
       "      <th>order_number</th>\n",
       "      <th>order_dow</th>\n",
       "      <th>order_hour_of_day</th>\n",
       "      <th>days_since_prior_order</th>\n",
       "    </tr>\n",
       "  </thead>\n",
       "  <tbody>\n",
       "    <tr>\n",
       "      <th>145574</th>\n",
       "      <td>794638</td>\n",
       "      <td>50898</td>\n",
       "      <td>24</td>\n",
       "      <td>3</td>\n",
       "      <td>2</td>\n",
       "      <td>2.0</td>\n",
       "    </tr>\n",
       "    <tr>\n",
       "      <th>223105</th>\n",
       "      <td>2160484</td>\n",
       "      <td>107525</td>\n",
       "      <td>16</td>\n",
       "      <td>3</td>\n",
       "      <td>2</td>\n",
       "      <td>30.0</td>\n",
       "    </tr>\n",
       "    <tr>\n",
       "      <th>230807</th>\n",
       "      <td>1918001</td>\n",
       "      <td>188546</td>\n",
       "      <td>14</td>\n",
       "      <td>3</td>\n",
       "      <td>2</td>\n",
       "      <td>16.0</td>\n",
       "    </tr>\n",
       "    <tr>\n",
       "      <th>266232</th>\n",
       "      <td>1782114</td>\n",
       "      <td>106752</td>\n",
       "      <td>1</td>\n",
       "      <td>3</td>\n",
       "      <td>2</td>\n",
       "      <td>NaN</td>\n",
       "    </tr>\n",
       "    <tr>\n",
       "      <th>273805</th>\n",
       "      <td>1112182</td>\n",
       "      <td>202304</td>\n",
       "      <td>84</td>\n",
       "      <td>3</td>\n",
       "      <td>2</td>\n",
       "      <td>6.0</td>\n",
       "    </tr>\n",
       "    <tr>\n",
       "      <th>284038</th>\n",
       "      <td>2845099</td>\n",
       "      <td>31189</td>\n",
       "      <td>11</td>\n",
       "      <td>3</td>\n",
       "      <td>2</td>\n",
       "      <td>7.0</td>\n",
       "    </tr>\n",
       "    <tr>\n",
       "      <th>311713</th>\n",
       "      <td>1021560</td>\n",
       "      <td>53767</td>\n",
       "      <td>3</td>\n",
       "      <td>3</td>\n",
       "      <td>2</td>\n",
       "      <td>9.0</td>\n",
       "    </tr>\n",
       "    <tr>\n",
       "      <th>321100</th>\n",
       "      <td>408114</td>\n",
       "      <td>68324</td>\n",
       "      <td>4</td>\n",
       "      <td>3</td>\n",
       "      <td>2</td>\n",
       "      <td>18.0</td>\n",
       "    </tr>\n",
       "    <tr>\n",
       "      <th>323900</th>\n",
       "      <td>1919531</td>\n",
       "      <td>191501</td>\n",
       "      <td>32</td>\n",
       "      <td>3</td>\n",
       "      <td>2</td>\n",
       "      <td>7.0</td>\n",
       "    </tr>\n",
       "    <tr>\n",
       "      <th>345917</th>\n",
       "      <td>2232988</td>\n",
       "      <td>82565</td>\n",
       "      <td>1</td>\n",
       "      <td>3</td>\n",
       "      <td>2</td>\n",
       "      <td>NaN</td>\n",
       "    </tr>\n",
       "    <tr>\n",
       "      <th>371905</th>\n",
       "      <td>391768</td>\n",
       "      <td>57671</td>\n",
       "      <td>19</td>\n",
       "      <td>3</td>\n",
       "      <td>2</td>\n",
       "      <td>10.0</td>\n",
       "    </tr>\n",
       "    <tr>\n",
       "      <th>394347</th>\n",
       "      <td>467134</td>\n",
       "      <td>63189</td>\n",
       "      <td>21</td>\n",
       "      <td>3</td>\n",
       "      <td>2</td>\n",
       "      <td>2.0</td>\n",
       "    </tr>\n",
       "    <tr>\n",
       "      <th>411408</th>\n",
       "      <td>1286742</td>\n",
       "      <td>183220</td>\n",
       "      <td>48</td>\n",
       "      <td>3</td>\n",
       "      <td>2</td>\n",
       "      <td>4.0</td>\n",
       "    </tr>\n",
       "    <tr>\n",
       "      <th>415163</th>\n",
       "      <td>2282673</td>\n",
       "      <td>86751</td>\n",
       "      <td>49</td>\n",
       "      <td>3</td>\n",
       "      <td>2</td>\n",
       "      <td>2.0</td>\n",
       "    </tr>\n",
       "    <tr>\n",
       "      <th>441599</th>\n",
       "      <td>2125197</td>\n",
       "      <td>14050</td>\n",
       "      <td>48</td>\n",
       "      <td>3</td>\n",
       "      <td>2</td>\n",
       "      <td>3.0</td>\n",
       "    </tr>\n",
       "  </tbody>\n",
       "</table>\n",
       "</div>"
      ],
      "text/plain": [
       "        order_id  user_id  order_number  order_dow  order_hour_of_day  \\\n",
       "145574    794638    50898            24          3                  2   \n",
       "223105   2160484   107525            16          3                  2   \n",
       "230807   1918001   188546            14          3                  2   \n",
       "266232   1782114   106752             1          3                  2   \n",
       "273805   1112182   202304            84          3                  2   \n",
       "284038   2845099    31189            11          3                  2   \n",
       "311713   1021560    53767             3          3                  2   \n",
       "321100    408114    68324             4          3                  2   \n",
       "323900   1919531   191501            32          3                  2   \n",
       "345917   2232988    82565             1          3                  2   \n",
       "371905    391768    57671            19          3                  2   \n",
       "394347    467134    63189            21          3                  2   \n",
       "411408   1286742   183220            48          3                  2   \n",
       "415163   2282673    86751            49          3                  2   \n",
       "441599   2125197    14050            48          3                  2   \n",
       "\n",
       "        days_since_prior_order  \n",
       "145574                     2.0  \n",
       "223105                    30.0  \n",
       "230807                    16.0  \n",
       "266232                     NaN  \n",
       "273805                     6.0  \n",
       "284038                     7.0  \n",
       "311713                     9.0  \n",
       "321100                    18.0  \n",
       "323900                     7.0  \n",
       "345917                     NaN  \n",
       "371905                    10.0  \n",
       "394347                     2.0  \n",
       "411408                     4.0  \n",
       "415163                     2.0  \n",
       "441599                     3.0  "
      ]
     },
     "execution_count": 15,
     "metadata": {},
     "output_type": "execute_result"
    }
   ],
   "source": [
    "ordenes[ordenes.duplicated()]"
   ]
  },
  {
   "cell_type": "code",
   "execution_count": null,
   "id": "16b1891c-ea65-460d-8466-d32bd20d9bca",
   "metadata": {},
   "outputs": [],
   "source": [
    "# Todas las facturas duplicadas son de los miercoles a las 2am"
   ]
  },
  {
   "cell_type": "code",
   "execution_count": 16,
   "id": "6c4c53a3-ccb4-415e-be0a-005df78c572a",
   "metadata": {},
   "outputs": [
    {
     "data": {
      "text/html": [
       "<div>\n",
       "<style scoped>\n",
       "    .dataframe tbody tr th:only-of-type {\n",
       "        vertical-align: middle;\n",
       "    }\n",
       "\n",
       "    .dataframe tbody tr th {\n",
       "        vertical-align: top;\n",
       "    }\n",
       "\n",
       "    .dataframe thead th {\n",
       "        text-align: right;\n",
       "    }\n",
       "</style>\n",
       "<table border=\"1\" class=\"dataframe\">\n",
       "  <thead>\n",
       "    <tr style=\"text-align: right;\">\n",
       "      <th></th>\n",
       "      <th>order_id</th>\n",
       "      <th>user_id</th>\n",
       "      <th>order_number</th>\n",
       "      <th>order_dow</th>\n",
       "      <th>order_hour_of_day</th>\n",
       "      <th>days_since_prior_order</th>\n",
       "    </tr>\n",
       "  </thead>\n",
       "  <tbody>\n",
       "    <tr>\n",
       "      <th>142258</th>\n",
       "      <td>2845099</td>\n",
       "      <td>31189</td>\n",
       "      <td>11</td>\n",
       "      <td>3</td>\n",
       "      <td>2</td>\n",
       "      <td>7.0</td>\n",
       "    </tr>\n",
       "    <tr>\n",
       "      <th>284038</th>\n",
       "      <td>2845099</td>\n",
       "      <td>31189</td>\n",
       "      <td>11</td>\n",
       "      <td>3</td>\n",
       "      <td>2</td>\n",
       "      <td>7.0</td>\n",
       "    </tr>\n",
       "  </tbody>\n",
       "</table>\n",
       "</div>"
      ],
      "text/plain": [
       "        order_id  user_id  order_number  order_dow  order_hour_of_day  \\\n",
       "142258   2845099    31189            11          3                  2   \n",
       "284038   2845099    31189            11          3                  2   \n",
       "\n",
       "        days_since_prior_order  \n",
       "142258                     7.0  \n",
       "284038                     7.0  "
      ]
     },
     "execution_count": 16,
     "metadata": {},
     "output_type": "execute_result"
    }
   ],
   "source": [
    "ordenes.query('order_id == 2845099')"
   ]
  },
  {
   "cell_type": "code",
   "execution_count": null,
   "id": "5a67ed17-d650-40d6-883e-effbd2b05acb",
   "metadata": {},
   "outputs": [],
   "source": [
    "# TODAS las ventas de los miercoles a las 2am se repiten?\n",
    "# NO -> apenas un 12% de ellas son repetidas"
   ]
  },
  {
   "cell_type": "code",
   "execution_count": 18,
   "id": "f6a80e0c-1b8a-4ebd-b497-140f4a40eeaf",
   "metadata": {},
   "outputs": [],
   "source": [
    "facturas_miercoles_2am = ordenes.query('order_dow == 3 and order_hour_of_day == 2')"
   ]
  },
  {
   "cell_type": "code",
   "execution_count": 21,
   "id": "9619b589-4fe9-4ad2-9a40-a32dc9b995c6",
   "metadata": {},
   "outputs": [],
   "source": [
    "porcertaje_repetidos = facturas_repetidas / len(facturas_miercoles_2am)"
   ]
  },
  {
   "cell_type": "code",
   "execution_count": 24,
   "id": "0642d871-66c3-435c-ac80-5bf9f869ba58",
   "metadata": {},
   "outputs": [
    {
     "name": "stdout",
     "output_type": "stream",
     "text": [
      "Las facturas repetidas representan un 12.396694214876034% del total de facturas de los miercoles a las 2am\n"
     ]
    }
   ],
   "source": [
    "print(f'Las facturas repetidas representan un {porcertaje_repetidos*100}% del total de facturas de los miercoles a las 2am')"
   ]
  },
  {
   "cell_type": "code",
   "execution_count": 25,
   "id": "1fb6033a-4f55-449b-92c9-60369c5d5623",
   "metadata": {},
   "outputs": [],
   "source": [
    "# Completitud -> Valores ausentes"
   ]
  },
  {
   "cell_type": "code",
   "execution_count": 27,
   "id": "796c1b6f-4559-4b29-b157-55e6ce6be5c2",
   "metadata": {},
   "outputs": [
    {
     "data": {
      "text/plain": [
       "order_id                      0\n",
       "user_id                       0\n",
       "order_number                  0\n",
       "order_dow                     0\n",
       "order_hour_of_day             0\n",
       "days_since_prior_order    28819\n",
       "dtype: int64"
      ]
     },
     "execution_count": 27,
     "metadata": {},
     "output_type": "execute_result"
    }
   ],
   "source": [
    "ordenes.isna().sum()"
   ]
  },
  {
   "cell_type": "code",
   "execution_count": 30,
   "id": "81a76087-6e7f-4df5-9945-5f57db508a17",
   "metadata": {},
   "outputs": [],
   "source": [
    "ordenes_con_celdas_faltantes = ordenes[ordenes['days_since_prior_order'].isna()]"
   ]
  },
  {
   "cell_type": "code",
   "execution_count": 64,
   "id": "1eb54aa9-acad-4b50-a705-950a765073e9",
   "metadata": {},
   "outputs": [
    {
     "data": {
      "text/html": [
       "<div>\n",
       "<style scoped>\n",
       "    .dataframe tbody tr th:only-of-type {\n",
       "        vertical-align: middle;\n",
       "    }\n",
       "\n",
       "    .dataframe tbody tr th {\n",
       "        vertical-align: top;\n",
       "    }\n",
       "\n",
       "    .dataframe thead th {\n",
       "        text-align: right;\n",
       "    }\n",
       "</style>\n",
       "<table border=\"1\" class=\"dataframe\">\n",
       "  <thead>\n",
       "    <tr style=\"text-align: right;\">\n",
       "      <th></th>\n",
       "      <th>order_id</th>\n",
       "      <th>user_id</th>\n",
       "      <th>order_number</th>\n",
       "      <th>order_dow</th>\n",
       "      <th>order_hour_of_day</th>\n",
       "      <th>days_since_prior_order</th>\n",
       "    </tr>\n",
       "  </thead>\n",
       "  <tbody>\n",
       "    <tr>\n",
       "      <th>28</th>\n",
       "      <td>133707</td>\n",
       "      <td>182261</td>\n",
       "      <td>1</td>\n",
       "      <td>3</td>\n",
       "      <td>10</td>\n",
       "      <td>NaN</td>\n",
       "    </tr>\n",
       "    <tr>\n",
       "      <th>96</th>\n",
       "      <td>787445</td>\n",
       "      <td>25685</td>\n",
       "      <td>1</td>\n",
       "      <td>6</td>\n",
       "      <td>18</td>\n",
       "      <td>NaN</td>\n",
       "    </tr>\n",
       "    <tr>\n",
       "      <th>100</th>\n",
       "      <td>294410</td>\n",
       "      <td>111449</td>\n",
       "      <td>1</td>\n",
       "      <td>0</td>\n",
       "      <td>19</td>\n",
       "      <td>NaN</td>\n",
       "    </tr>\n",
       "    <tr>\n",
       "      <th>103</th>\n",
       "      <td>2869915</td>\n",
       "      <td>123958</td>\n",
       "      <td>1</td>\n",
       "      <td>4</td>\n",
       "      <td>16</td>\n",
       "      <td>NaN</td>\n",
       "    </tr>\n",
       "    <tr>\n",
       "      <th>104</th>\n",
       "      <td>2521921</td>\n",
       "      <td>42286</td>\n",
       "      <td>1</td>\n",
       "      <td>3</td>\n",
       "      <td>18</td>\n",
       "      <td>NaN</td>\n",
       "    </tr>\n",
       "    <tr>\n",
       "      <th>...</th>\n",
       "      <td>...</td>\n",
       "      <td>...</td>\n",
       "      <td>...</td>\n",
       "      <td>...</td>\n",
       "      <td>...</td>\n",
       "      <td>...</td>\n",
       "    </tr>\n",
       "    <tr>\n",
       "      <th>478895</th>\n",
       "      <td>2589657</td>\n",
       "      <td>205028</td>\n",
       "      <td>1</td>\n",
       "      <td>0</td>\n",
       "      <td>16</td>\n",
       "      <td>NaN</td>\n",
       "    </tr>\n",
       "    <tr>\n",
       "      <th>478896</th>\n",
       "      <td>2222353</td>\n",
       "      <td>141211</td>\n",
       "      <td>1</td>\n",
       "      <td>2</td>\n",
       "      <td>13</td>\n",
       "      <td>NaN</td>\n",
       "    </tr>\n",
       "    <tr>\n",
       "      <th>478922</th>\n",
       "      <td>2272807</td>\n",
       "      <td>204154</td>\n",
       "      <td>1</td>\n",
       "      <td>1</td>\n",
       "      <td>15</td>\n",
       "      <td>NaN</td>\n",
       "    </tr>\n",
       "    <tr>\n",
       "      <th>478926</th>\n",
       "      <td>2499542</td>\n",
       "      <td>68810</td>\n",
       "      <td>1</td>\n",
       "      <td>4</td>\n",
       "      <td>19</td>\n",
       "      <td>NaN</td>\n",
       "    </tr>\n",
       "    <tr>\n",
       "      <th>478945</th>\n",
       "      <td>1387033</td>\n",
       "      <td>22496</td>\n",
       "      <td>1</td>\n",
       "      <td>5</td>\n",
       "      <td>14</td>\n",
       "      <td>NaN</td>\n",
       "    </tr>\n",
       "  </tbody>\n",
       "</table>\n",
       "<p>28819 rows × 6 columns</p>\n",
       "</div>"
      ],
      "text/plain": [
       "        order_id  user_id  order_number  order_dow  order_hour_of_day  \\\n",
       "28        133707   182261             1          3                 10   \n",
       "96        787445    25685             1          6                 18   \n",
       "100       294410   111449             1          0                 19   \n",
       "103      2869915   123958             1          4                 16   \n",
       "104      2521921    42286             1          3                 18   \n",
       "...          ...      ...           ...        ...                ...   \n",
       "478895   2589657   205028             1          0                 16   \n",
       "478896   2222353   141211             1          2                 13   \n",
       "478922   2272807   204154             1          1                 15   \n",
       "478926   2499542    68810             1          4                 19   \n",
       "478945   1387033    22496             1          5                 14   \n",
       "\n",
       "        days_since_prior_order  \n",
       "28                         NaN  \n",
       "96                         NaN  \n",
       "100                        NaN  \n",
       "103                        NaN  \n",
       "104                        NaN  \n",
       "...                        ...  \n",
       "478895                     NaN  \n",
       "478896                     NaN  \n",
       "478922                     NaN  \n",
       "478926                     NaN  \n",
       "478945                     NaN  \n",
       "\n",
       "[28819 rows x 6 columns]"
      ]
     },
     "execution_count": 64,
     "metadata": {},
     "output_type": "execute_result"
    }
   ],
   "source": [
    "ordenes_con_celdas_faltantes"
   ]
  },
  {
   "cell_type": "code",
   "execution_count": null,
   "id": "fdd62e94-9aff-4b04-a433-8823c322b183",
   "metadata": {},
   "outputs": [],
   "source": [
    "# 0 -> ENSUCIO / DAÑO LOS DATOS -> ES BASURA\n",
    "# -1"
   ]
  },
  {
   "cell_type": "code",
   "execution_count": null,
   "id": "257645f6-5f43-462d-ba02-f81eb89fe4ae",
   "metadata": {},
   "outputs": [],
   "source": [
    "# TODAS las filas que tienen valor ausente en days_since_prior_order es la primera compra?"
   ]
  },
  {
   "cell_type": "code",
   "execution_count": 31,
   "id": "161fd950-8071-492c-b674-75148127a4dd",
   "metadata": {},
   "outputs": [
    {
     "data": {
      "text/plain": [
       "28819"
      ]
     },
     "execution_count": 31,
     "metadata": {},
     "output_type": "execute_result"
    }
   ],
   "source": [
    "len(ordenes_con_celdas_faltantes)"
   ]
  },
  {
   "cell_type": "code",
   "execution_count": 33,
   "id": "0fce7a64-daf9-4c18-bc30-529a7a34ac03",
   "metadata": {},
   "outputs": [],
   "source": [
    "primeras_compras = ordenes.query('order_number == 1')"
   ]
  },
  {
   "cell_type": "code",
   "execution_count": 34,
   "id": "f40bb52e-e3c7-47ae-939e-a5d6e7624a91",
   "metadata": {},
   "outputs": [
    {
     "name": "stdout",
     "output_type": "stream",
     "text": [
      "Todas las filas con valores ausentes son de las primeras compras\n"
     ]
    }
   ],
   "source": [
    "# Comprobacion debil\n",
    "if len(ordenes_con_celdas_faltantes) == len(primeras_compras):\n",
    "    print('Todas las filas con valores ausentes son de las primeras compras')\n",
    "\n",
    "# Comprobacion fuerte: vean que todos los IDs de ordenes esten en ambos lados"
   ]
  },
  {
   "cell_type": "code",
   "execution_count": 36,
   "id": "fcab4d8a-d74a-454f-b940-0b5eaf84edfe",
   "metadata": {},
   "outputs": [
    {
     "data": {
      "text/plain": [
       "array([1])"
      ]
     },
     "execution_count": 36,
     "metadata": {},
     "output_type": "execute_result"
    }
   ],
   "source": [
    "ordenes_con_celdas_faltantes['order_number'].unique()"
   ]
  },
  {
   "cell_type": "code",
   "execution_count": 37,
   "id": "4949fd4b-b804-4f75-b046-971f1f84d08d",
   "metadata": {},
   "outputs": [],
   "source": [
    "# Limpieza de datos"
   ]
  },
  {
   "cell_type": "code",
   "execution_count": 38,
   "id": "fd936133-90a5-4055-915c-134bda57c7ef",
   "metadata": {},
   "outputs": [],
   "source": [
    "ordenes.drop_duplicates(inplace=True)"
   ]
  },
  {
   "cell_type": "code",
   "execution_count": 39,
   "id": "2774f8ae-78c4-4b4b-b7a8-904fe8ebea9b",
   "metadata": {},
   "outputs": [],
   "source": [
    "ordenes['days_since_prior_order'].fillna(-1, inplace=True)"
   ]
  },
  {
   "cell_type": "code",
   "execution_count": 40,
   "id": "ab9149f3-98b9-4443-80ec-d8bd6a73b929",
   "metadata": {},
   "outputs": [],
   "source": [
    "# Comprobacion final"
   ]
  },
  {
   "cell_type": "code",
   "execution_count": 41,
   "id": "c288889a-44ec-4527-8146-d88879ac83f0",
   "metadata": {},
   "outputs": [
    {
     "data": {
      "text/plain": [
       "0"
      ]
     },
     "execution_count": 41,
     "metadata": {},
     "output_type": "execute_result"
    }
   ],
   "source": [
    "ordenes.duplicated().sum()"
   ]
  },
  {
   "cell_type": "code",
   "execution_count": 42,
   "id": "35d3f5b5-b603-4ec7-a0a3-66e33e6a54eb",
   "metadata": {},
   "outputs": [
    {
     "data": {
      "text/plain": [
       "order_id                  0\n",
       "user_id                   0\n",
       "order_number              0\n",
       "order_dow                 0\n",
       "order_hour_of_day         0\n",
       "days_since_prior_order    0\n",
       "dtype: int64"
      ]
     },
     "execution_count": 42,
     "metadata": {},
     "output_type": "execute_result"
    }
   ],
   "source": [
    "ordenes.isna().sum()"
   ]
  },
  {
   "cell_type": "code",
   "execution_count": 44,
   "id": "b427eb05-5655-4368-a48d-322fd0d1b980",
   "metadata": {},
   "outputs": [],
   "source": [
    "# Cual(es) son los mejores dias de venta?"
   ]
  },
  {
   "cell_type": "code",
   "execution_count": 47,
   "id": "577b66f5-7b9a-419e-8930-f16ec444f123",
   "metadata": {},
   "outputs": [],
   "source": [
    "ventas_por_dia = ordenes.groupby('order_dow')['order_id'].count()"
   ]
  },
  {
   "cell_type": "code",
   "execution_count": 54,
   "id": "f95b9f95-427b-4bb1-8de8-d3a24861a3fd",
   "metadata": {},
   "outputs": [
    {
     "data": {
      "text/plain": [
       "order_dow\n",
       "0    84090\n",
       "1    82185\n",
       "2    65833\n",
       "3    60897\n",
       "4    59810\n",
       "5    63488\n",
       "6    62649\n",
       "Name: order_id, dtype: int64"
      ]
     },
     "execution_count": 54,
     "metadata": {},
     "output_type": "execute_result"
    }
   ],
   "source": [
    "ventas_por_dia"
   ]
  },
  {
   "cell_type": "code",
   "execution_count": 55,
   "id": "a62aeefc-7f00-4843-8f36-c2185daa169b",
   "metadata": {},
   "outputs": [],
   "source": [
    "ventas_por_dia.index = ['Domingo', 'Lunes', 'Martes', 'Miercoles', 'Jueves', 'Viernes', 'Sabado']"
   ]
  },
  {
   "cell_type": "code",
   "execution_count": 62,
   "id": "859e1c3a-d588-44e4-bb1b-e9c82da6fce1",
   "metadata": {},
   "outputs": [
    {
     "data": {
      "text/plain": [
       "<Axes: title={'center': ' # Facturas por dia de la semana'}, xlabel='Dia de la semana', ylabel='Total facturas'>"
      ]
     },
     "execution_count": 62,
     "metadata": {},
     "output_type": "execute_result"
    },
    {
     "data": {
      "image/png": "[encoded data removed]",
      "text/plain": [
       "<Figure size 640x480 with 1 Axes>"
      ]
     },
     "metadata": {},
     "output_type": "display_data"
    }
   ],
   "source": [
    "ventas_por_dia.plot(kind='bar', title = ' # Facturas por dia de la semana', xlabel = 'Dia de la semana', ylabel = 'Total facturas')"
   ]
  },
  {
   "cell_type": "code",
   "execution_count": 65,
   "id": "ce417f3a-a628-42bd-b2db-eff65251509b",
   "metadata": {},
   "outputs": [],
   "source": [
    "# Los mejores dias con mayores ventas son el domingo y el lunes, siendo el domingo el dia con mayor ventas"
   ]
  },
  {
   "cell_type": "code",
   "execution_count": 67,
   "id": "ffcc94a6-ad2f-4ef5-99c4-ac6ae0c0504f",
   "metadata": {},
   "outputs": [],
   "source": [
    "# order_hour_of_day"
   ]
  },
  {
   "cell_type": "code",
   "execution_count": null,
   "id": "4a1e5f9a-538c-4298-8253-dc760d41dabb",
   "metadata": {},
   "outputs": [],
   "source": [
    "# Como se ve las ventas por hora?"
   ]
  },
  {
   "cell_type": "code",
   "execution_count": 68,
   "id": "17955972-7c4d-4c7b-94ff-093ec7c6a588",
   "metadata": {},
   "outputs": [],
   "source": [
    "ventas_por_hora = ordenes.groupby('order_hour_of_day')['order_id'].count()"
   ]
  },
  {
   "cell_type": "code",
   "execution_count": 73,
   "id": "d0b9f67c-455e-4d2a-a5ff-04cf57145311",
   "metadata": {},
   "outputs": [],
   "source": [
    "import matplotlib.pyplot as plt"
   ]
  },
  {
   "cell_type": "code",
   "execution_count": 74,
   "id": "89d94865-0859-490e-8c4b-4602f85c4f48",
   "metadata": {},
   "outputs": [
    {
     "data": {
      "image/png": "[encoded data removed]",
      "text/plain": [
       "<Figure size 640x480 with 1 Axes>"
      ]
     },
     "metadata": {},
     "output_type": "display_data"
    }
   ],
   "source": [
    "ventas_por_hora.plot(kind='line', xlabel='Hora del dia', ylabel='# de facturas', title='# Facturas por hora del dia')\n",
    "plt.show()"
   ]
  },
  {
   "cell_type": "code",
   "execution_count": null,
   "id": "5919b1a8-98f5-4ccc-a920-db32556b1dfd",
   "metadata": {},
   "outputs": [],
   "source": [
    "# Como se ve las ventas por hora de los dias pico"
   ]
  },
  {
   "cell_type": "code",
   "execution_count": 75,
   "id": "0404fbeb-4c78-4b63-a4f5-c27d94a30504",
   "metadata": {},
   "outputs": [],
   "source": [
    "ventas_domingo = ordenes.query('order_dow == 0')\n",
    "ventas_lunes = ordenes.query('order_dow == 1')"
   ]
  },
  {
   "cell_type": "code",
   "execution_count": 82,
   "id": "ebad149e-f753-4096-a75a-39292a152696",
   "metadata": {},
   "outputs": [],
   "source": [
    "ventas_domingo_por_hora = ventas_domingo.groupby('order_hour_of_day')['order_id'].count()\n",
    "ventas_lunes_por_hora = ventas_lunes.groupby('order_hour_of_day')['order_id'].count()\n",
    "\n",
    "ventas_domingo_por_hora.name = 'Domingo'\n",
    "ventas_lunes_por_hora.name = 'Lunes'"
   ]
  },
  {
   "cell_type": "code",
   "execution_count": 83,
   "id": "3d68d491-9c3f-47b1-9486-df494f017112",
   "metadata": {},
   "outputs": [
    {
     "data": {
      "text/plain": [
       "order_hour_of_day\n",
       "0      565\n",
       "1      269\n",
       "2      145\n",
       "3      104\n",
       "4      104\n",
       "5      246\n",
       "6      757\n",
       "7     2320\n",
       "8     4751\n",
       "9     7262\n",
       "10    7881\n",
       "11    7194\n",
       "12    6648\n",
       "13    6618\n",
       "14    6545\n",
       "15    6446\n",
       "16    6050\n",
       "17    5125\n",
       "18    4075\n",
       "19    3126\n",
       "20    2332\n",
       "21    1698\n",
       "22    1165\n",
       "23     759\n",
       "Name: Lunes, dtype: int64"
      ]
     },
     "execution_count": 83,
     "metadata": {},
     "output_type": "execute_result"
    }
   ],
   "source": [
    "ventas_lunes_por_hora"
   ]
  },
  {
   "cell_type": "code",
   "execution_count": 84,
   "id": "56b8369d-09a3-42c7-b509-4fac6bb5eeb6",
   "metadata": {},
   "outputs": [
    {
     "data": {
      "image/png": "[encoded data removed]",
      "text/plain": [
       "<Figure size 640x480 with 1 Axes>"
      ]
     },
     "metadata": {},
     "output_type": "display_data"
    }
   ],
   "source": [
    "ventas_domingo_por_hora.plot(kind='line', legend='Domingo')\n",
    "ventas_lunes_por_hora.plot(kind='line', legend='Lunes')\n",
    "plt.show()"
   ]
  },
  {
   "cell_type": "code",
   "execution_count": 85,
   "id": "3703566d-d486-4170-ae02-c696f6325da5",
   "metadata": {},
   "outputs": [],
   "source": [
    "# Cuales son mi top 20 mejores productos?\n",
    "# Segun que?"
   ]
  },
  {
   "cell_type": "code",
   "execution_count": 87,
   "id": "ca1e5aa6-df5e-4c95-84b3-08e237401b44",
   "metadata": {},
   "outputs": [],
   "source": [
    "# Basado en el que mas se compra"
   ]
  },
  {
   "cell_type": "code",
   "execution_count": 89,
   "id": "e5da74df-293c-483a-878a-5a2a644cc848",
   "metadata": {},
   "outputs": [],
   "source": [
    "ordenes_detalle = pd.read_csv('order_products.csv', sep=';')"
   ]
  },
  {
   "cell_type": "code",
   "execution_count": 108,
   "id": "532952a3-5528-4fe1-88fb-0ffe9d6e1f7c",
   "metadata": {},
   "outputs": [],
   "source": [
    "productos = pd.read_csv('products.csv', sep=';')"
   ]
  },
  {
   "cell_type": "code",
   "execution_count": 109,
   "id": "a00c721c-74a5-4f36-8233-c91329350bca",
   "metadata": {},
   "outputs": [
    {
     "data": {
      "text/html": [
       "<div>\n",
       "<style scoped>\n",
       "    .dataframe tbody tr th:only-of-type {\n",
       "        vertical-align: middle;\n",
       "    }\n",
       "\n",
       "    .dataframe tbody tr th {\n",
       "        vertical-align: top;\n",
       "    }\n",
       "\n",
       "    .dataframe thead th {\n",
       "        text-align: right;\n",
       "    }\n",
       "</style>\n",
       "<table border=\"1\" class=\"dataframe\">\n",
       "  <thead>\n",
       "    <tr style=\"text-align: right;\">\n",
       "      <th></th>\n",
       "      <th>product_id</th>\n",
       "      <th>product_name</th>\n",
       "      <th>aisle_id</th>\n",
       "      <th>department_id</th>\n",
       "    </tr>\n",
       "  </thead>\n",
       "  <tbody>\n",
       "    <tr>\n",
       "      <th>0</th>\n",
       "      <td>1</td>\n",
       "      <td>Chocolate Sandwich Cookies</td>\n",
       "      <td>61</td>\n",
       "      <td>19</td>\n",
       "    </tr>\n",
       "    <tr>\n",
       "      <th>1</th>\n",
       "      <td>2</td>\n",
       "      <td>All-Seasons Salt</td>\n",
       "      <td>104</td>\n",
       "      <td>13</td>\n",
       "    </tr>\n",
       "    <tr>\n",
       "      <th>2</th>\n",
       "      <td>3</td>\n",
       "      <td>Robust Golden Unsweetened Oolong Tea</td>\n",
       "      <td>94</td>\n",
       "      <td>7</td>\n",
       "    </tr>\n",
       "    <tr>\n",
       "      <th>3</th>\n",
       "      <td>4</td>\n",
       "      <td>Smart Ones Classic Favorites Mini Rigatoni Wit...</td>\n",
       "      <td>38</td>\n",
       "      <td>1</td>\n",
       "    </tr>\n",
       "    <tr>\n",
       "      <th>4</th>\n",
       "      <td>5</td>\n",
       "      <td>Green Chile Anytime Sauce</td>\n",
       "      <td>5</td>\n",
       "      <td>13</td>\n",
       "    </tr>\n",
       "  </tbody>\n",
       "</table>\n",
       "</div>"
      ],
      "text/plain": [
       "   product_id                                       product_name  aisle_id  \\\n",
       "0           1                         Chocolate Sandwich Cookies        61   \n",
       "1           2                                   All-Seasons Salt       104   \n",
       "2           3               Robust Golden Unsweetened Oolong Tea        94   \n",
       "3           4  Smart Ones Classic Favorites Mini Rigatoni Wit...        38   \n",
       "4           5                          Green Chile Anytime Sauce         5   \n",
       "\n",
       "   department_id  \n",
       "0             19  \n",
       "1             13  \n",
       "2              7  \n",
       "3              1  \n",
       "4             13  "
      ]
     },
     "execution_count": 109,
     "metadata": {},
     "output_type": "execute_result"
    }
   ],
   "source": [
    "productos.head()"
   ]
  },
  {
   "cell_type": "code",
   "execution_count": 90,
   "id": "81c4bb5e-91e3-4159-a407-ea90680edd22",
   "metadata": {},
   "outputs": [
    {
     "data": {
      "text/html": [
       "<div>\n",
       "<style scoped>\n",
       "    .dataframe tbody tr th:only-of-type {\n",
       "        vertical-align: middle;\n",
       "    }\n",
       "\n",
       "    .dataframe tbody tr th {\n",
       "        vertical-align: top;\n",
       "    }\n",
       "\n",
       "    .dataframe thead th {\n",
       "        text-align: right;\n",
       "    }\n",
       "</style>\n",
       "<table border=\"1\" class=\"dataframe\">\n",
       "  <thead>\n",
       "    <tr style=\"text-align: right;\">\n",
       "      <th></th>\n",
       "      <th>order_id</th>\n",
       "      <th>product_id</th>\n",
       "      <th>add_to_cart_order</th>\n",
       "      <th>reordered</th>\n",
       "    </tr>\n",
       "  </thead>\n",
       "  <tbody>\n",
       "    <tr>\n",
       "      <th>0</th>\n",
       "      <td>2141543</td>\n",
       "      <td>11440</td>\n",
       "      <td>17.0</td>\n",
       "      <td>0</td>\n",
       "    </tr>\n",
       "    <tr>\n",
       "      <th>1</th>\n",
       "      <td>567889</td>\n",
       "      <td>1560</td>\n",
       "      <td>1.0</td>\n",
       "      <td>1</td>\n",
       "    </tr>\n",
       "    <tr>\n",
       "      <th>2</th>\n",
       "      <td>2261212</td>\n",
       "      <td>26683</td>\n",
       "      <td>1.0</td>\n",
       "      <td>1</td>\n",
       "    </tr>\n",
       "    <tr>\n",
       "      <th>3</th>\n",
       "      <td>491251</td>\n",
       "      <td>8670</td>\n",
       "      <td>35.0</td>\n",
       "      <td>1</td>\n",
       "    </tr>\n",
       "    <tr>\n",
       "      <th>4</th>\n",
       "      <td>2571142</td>\n",
       "      <td>1940</td>\n",
       "      <td>5.0</td>\n",
       "      <td>1</td>\n",
       "    </tr>\n",
       "    <tr>\n",
       "      <th>...</th>\n",
       "      <td>...</td>\n",
       "      <td>...</td>\n",
       "      <td>...</td>\n",
       "      <td>...</td>\n",
       "    </tr>\n",
       "    <tr>\n",
       "      <th>4545002</th>\n",
       "      <td>577211</td>\n",
       "      <td>15290</td>\n",
       "      <td>12.0</td>\n",
       "      <td>1</td>\n",
       "    </tr>\n",
       "    <tr>\n",
       "      <th>4545003</th>\n",
       "      <td>1219554</td>\n",
       "      <td>21914</td>\n",
       "      <td>9.0</td>\n",
       "      <td>0</td>\n",
       "    </tr>\n",
       "    <tr>\n",
       "      <th>4545004</th>\n",
       "      <td>692640</td>\n",
       "      <td>47766</td>\n",
       "      <td>4.0</td>\n",
       "      <td>1</td>\n",
       "    </tr>\n",
       "    <tr>\n",
       "      <th>4545005</th>\n",
       "      <td>319435</td>\n",
       "      <td>691</td>\n",
       "      <td>8.0</td>\n",
       "      <td>1</td>\n",
       "    </tr>\n",
       "    <tr>\n",
       "      <th>4545006</th>\n",
       "      <td>1398151</td>\n",
       "      <td>28733</td>\n",
       "      <td>9.0</td>\n",
       "      <td>0</td>\n",
       "    </tr>\n",
       "  </tbody>\n",
       "</table>\n",
       "<p>4545007 rows × 4 columns</p>\n",
       "</div>"
      ],
      "text/plain": [
       "         order_id  product_id  add_to_cart_order  reordered\n",
       "0         2141543       11440               17.0          0\n",
       "1          567889        1560                1.0          1\n",
       "2         2261212       26683                1.0          1\n",
       "3          491251        8670               35.0          1\n",
       "4         2571142        1940                5.0          1\n",
       "...           ...         ...                ...        ...\n",
       "4545002    577211       15290               12.0          1\n",
       "4545003   1219554       21914                9.0          0\n",
       "4545004    692640       47766                4.0          1\n",
       "4545005    319435         691                8.0          1\n",
       "4545006   1398151       28733                9.0          0\n",
       "\n",
       "[4545007 rows x 4 columns]"
      ]
     },
     "execution_count": 90,
     "metadata": {},
     "output_type": "execute_result"
    }
   ],
   "source": [
    "ordenes_detalle"
   ]
  },
  {
   "cell_type": "code",
   "execution_count": 91,
   "id": "6969c7d2-dfc3-4b54-9d69-138a797509ad",
   "metadata": {},
   "outputs": [
    {
     "data": {
      "text/plain": [
       "0"
      ]
     },
     "execution_count": 91,
     "metadata": {},
     "output_type": "execute_result"
    }
   ],
   "source": [
    "ordenes_detalle.duplicated().sum()"
   ]
  },
  {
   "cell_type": "code",
   "execution_count": 92,
   "id": "43c94966-33b4-4a2a-ad80-49b5192b9b7c",
   "metadata": {},
   "outputs": [
    {
     "data": {
      "text/plain": [
       "order_id               0\n",
       "product_id             0\n",
       "add_to_cart_order    836\n",
       "reordered              0\n",
       "dtype: int64"
      ]
     },
     "execution_count": 92,
     "metadata": {},
     "output_type": "execute_result"
    }
   ],
   "source": [
    "ordenes_detalle.isna().sum()"
   ]
  },
  {
   "cell_type": "code",
   "execution_count": 93,
   "id": "792a3879-c34c-444d-84b0-300d4a346e8a",
   "metadata": {},
   "outputs": [],
   "source": [
    "ordenes_detalle.fillna(-1, inplace=True)"
   ]
  },
  {
   "cell_type": "code",
   "execution_count": 111,
   "id": "ff88129d-fcb7-41c8-a3f3-4bbfb347d03a",
   "metadata": {},
   "outputs": [],
   "source": [
    "ordenes_detalle_full = ordenes_detalle.merge(productos, on='product_id')"
   ]
  },
  {
   "cell_type": "code",
   "execution_count": 112,
   "id": "1efd3d3d-96f9-4f90-91ca-80cd3d502d64",
   "metadata": {},
   "outputs": [
    {
     "data": {
      "text/html": [
       "<div>\n",
       "<style scoped>\n",
       "    .dataframe tbody tr th:only-of-type {\n",
       "        vertical-align: middle;\n",
       "    }\n",
       "\n",
       "    .dataframe tbody tr th {\n",
       "        vertical-align: top;\n",
       "    }\n",
       "\n",
       "    .dataframe thead th {\n",
       "        text-align: right;\n",
       "    }\n",
       "</style>\n",
       "<table border=\"1\" class=\"dataframe\">\n",
       "  <thead>\n",
       "    <tr style=\"text-align: right;\">\n",
       "      <th></th>\n",
       "      <th>order_id</th>\n",
       "      <th>product_id</th>\n",
       "      <th>add_to_cart_order</th>\n",
       "      <th>reordered</th>\n",
       "      <th>product_name</th>\n",
       "      <th>aisle_id</th>\n",
       "      <th>department_id</th>\n",
       "    </tr>\n",
       "  </thead>\n",
       "  <tbody>\n",
       "    <tr>\n",
       "      <th>0</th>\n",
       "      <td>2141543</td>\n",
       "      <td>11440</td>\n",
       "      <td>17.0</td>\n",
       "      <td>0</td>\n",
       "      <td>Chicken Breast Tenders Breaded</td>\n",
       "      <td>129</td>\n",
       "      <td>1</td>\n",
       "    </tr>\n",
       "    <tr>\n",
       "      <th>1</th>\n",
       "      <td>147172</td>\n",
       "      <td>11440</td>\n",
       "      <td>7.0</td>\n",
       "      <td>1</td>\n",
       "      <td>Chicken Breast Tenders Breaded</td>\n",
       "      <td>129</td>\n",
       "      <td>1</td>\n",
       "    </tr>\n",
       "    <tr>\n",
       "      <th>2</th>\n",
       "      <td>3341719</td>\n",
       "      <td>11440</td>\n",
       "      <td>4.0</td>\n",
       "      <td>1</td>\n",
       "      <td>Chicken Breast Tenders Breaded</td>\n",
       "      <td>129</td>\n",
       "      <td>1</td>\n",
       "    </tr>\n",
       "    <tr>\n",
       "      <th>3</th>\n",
       "      <td>1938779</td>\n",
       "      <td>11440</td>\n",
       "      <td>8.0</td>\n",
       "      <td>1</td>\n",
       "      <td>Chicken Breast Tenders Breaded</td>\n",
       "      <td>129</td>\n",
       "      <td>1</td>\n",
       "    </tr>\n",
       "    <tr>\n",
       "      <th>4</th>\n",
       "      <td>1728338</td>\n",
       "      <td>11440</td>\n",
       "      <td>23.0</td>\n",
       "      <td>0</td>\n",
       "      <td>Chicken Breast Tenders Breaded</td>\n",
       "      <td>129</td>\n",
       "      <td>1</td>\n",
       "    </tr>\n",
       "    <tr>\n",
       "      <th>...</th>\n",
       "      <td>...</td>\n",
       "      <td>...</td>\n",
       "      <td>...</td>\n",
       "      <td>...</td>\n",
       "      <td>...</td>\n",
       "      <td>...</td>\n",
       "      <td>...</td>\n",
       "    </tr>\n",
       "    <tr>\n",
       "      <th>4545002</th>\n",
       "      <td>267402</td>\n",
       "      <td>45226</td>\n",
       "      <td>14.0</td>\n",
       "      <td>0</td>\n",
       "      <td>Sweet Teriyaki Chicken Oven Sauce</td>\n",
       "      <td>5</td>\n",
       "      <td>13</td>\n",
       "    </tr>\n",
       "    <tr>\n",
       "      <th>4545003</th>\n",
       "      <td>2621676</td>\n",
       "      <td>25201</td>\n",
       "      <td>10.0</td>\n",
       "      <td>0</td>\n",
       "      <td>Crisp Waters Candle Scents</td>\n",
       "      <td>101</td>\n",
       "      <td>17</td>\n",
       "    </tr>\n",
       "    <tr>\n",
       "      <th>4545004</th>\n",
       "      <td>937623</td>\n",
       "      <td>49153</td>\n",
       "      <td>2.0</td>\n",
       "      <td>0</td>\n",
       "      <td>Shine Collection Brillance Shampoo</td>\n",
       "      <td>22</td>\n",
       "      <td>11</td>\n",
       "    </tr>\n",
       "    <tr>\n",
       "      <th>4545005</th>\n",
       "      <td>532895</td>\n",
       "      <td>8182</td>\n",
       "      <td>1.0</td>\n",
       "      <td>0</td>\n",
       "      <td>Total Mint Stripe Gel Toothpaste</td>\n",
       "      <td>20</td>\n",
       "      <td>11</td>\n",
       "    </tr>\n",
       "    <tr>\n",
       "      <th>4545006</th>\n",
       "      <td>3132243</td>\n",
       "      <td>40024</td>\n",
       "      <td>1.0</td>\n",
       "      <td>0</td>\n",
       "      <td>Egg Replacer Powder</td>\n",
       "      <td>17</td>\n",
       "      <td>13</td>\n",
       "    </tr>\n",
       "  </tbody>\n",
       "</table>\n",
       "<p>4545007 rows × 7 columns</p>\n",
       "</div>"
      ],
      "text/plain": [
       "         order_id  product_id  add_to_cart_order  reordered  \\\n",
       "0         2141543       11440               17.0          0   \n",
       "1          147172       11440                7.0          1   \n",
       "2         3341719       11440                4.0          1   \n",
       "3         1938779       11440                8.0          1   \n",
       "4         1728338       11440               23.0          0   \n",
       "...           ...         ...                ...        ...   \n",
       "4545002    267402       45226               14.0          0   \n",
       "4545003   2621676       25201               10.0          0   \n",
       "4545004    937623       49153                2.0          0   \n",
       "4545005    532895        8182                1.0          0   \n",
       "4545006   3132243       40024                1.0          0   \n",
       "\n",
       "                               product_name  aisle_id  department_id  \n",
       "0            Chicken Breast Tenders Breaded       129              1  \n",
       "1            Chicken Breast Tenders Breaded       129              1  \n",
       "2            Chicken Breast Tenders Breaded       129              1  \n",
       "3            Chicken Breast Tenders Breaded       129              1  \n",
       "4            Chicken Breast Tenders Breaded       129              1  \n",
       "...                                     ...       ...            ...  \n",
       "4545002   Sweet Teriyaki Chicken Oven Sauce         5             13  \n",
       "4545003          Crisp Waters Candle Scents       101             17  \n",
       "4545004  Shine Collection Brillance Shampoo        22             11  \n",
       "4545005    Total Mint Stripe Gel Toothpaste        20             11  \n",
       "4545006                 Egg Replacer Powder        17             13  \n",
       "\n",
       "[4545007 rows x 7 columns]"
      ]
     },
     "execution_count": 112,
     "metadata": {},
     "output_type": "execute_result"
    }
   ],
   "source": [
    "ordenes_detalle_full"
   ]
  },
  {
   "cell_type": "code",
   "execution_count": 113,
   "id": "0a4c6e31-7a31-4108-9a95-2fd799257f0a",
   "metadata": {},
   "outputs": [],
   "source": [
    "ventas_por_producto = ordenes_detalle_full.groupby(['product_id', 'product_name'])['order_id'].count()"
   ]
  },
  {
   "cell_type": "code",
   "execution_count": 114,
   "id": "722d4e3a-43af-46b8-ab64-c7d530c5eeaa",
   "metadata": {},
   "outputs": [],
   "source": [
    "ventas_por_producto.sort_values(ascending=False, inplace=True)"
   ]
  },
  {
   "cell_type": "code",
   "execution_count": 115,
   "id": "67d225a0-8611-4b9e-a30b-1bb1d2dd0a68",
   "metadata": {},
   "outputs": [
    {
     "data": {
      "text/plain": [
       "<Axes: xlabel='product_id,product_name'>"
      ]
     },
     "execution_count": 115,
     "metadata": {},
     "output_type": "execute_result"
    },
    {
     "data": {
      "image/png": "[encoded data removed]",
      "text/plain": [
       "<Figure size 640x480 with 1 Axes>"
      ]
     },
     "metadata": {},
     "output_type": "display_data"
    }
   ],
   "source": [
    "ventas_por_producto.head(20).plot(kind='bar')"
   ]
  },
  {
   "cell_type": "code",
   "execution_count": null,
   "id": "ce18b2fd-94b5-4ff3-8509-a9f6dcf798c2",
   "metadata": {},
   "outputs": [],
   "source": []
  }
 ],
 "metadata": {
  "kernelspec": {
   "display_name": "Python 3 (ipykernel)",
   "language": "python",
   "name": "python3"
  },
  "language_info": {
   "codemirror_mode": {
    "name": "ipython",
    "version": 3
   },
   "file_extension": ".py",
   "mimetype": "text/x-python",
   "name": "python",
   "nbconvert_exporter": "python",
   "pygments_lexer": "ipython3",
   "version": "3.11.7"
  }
 },
 "nbformat": 4,
 "nbformat_minor": 5
}
